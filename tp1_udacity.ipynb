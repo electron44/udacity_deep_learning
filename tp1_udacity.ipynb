{
  "nbformat": 4,
  "nbformat_minor": 0,
  "metadata": {
    "colab": {
      "name": "tp1_udacity.ipynb",
      "provenance": [],
      "include_colab_link": true
    },
    "kernelspec": {
      "name": "python3",
      "display_name": "Python 3"
    },
    "accelerator": "GPU"
  },
  "cells": [
    {
      "cell_type": "markdown",
      "metadata": {
        "id": "view-in-github",
        "colab_type": "text"
      },
      "source": [
        "<a href=\"https://colab.research.google.com/github/electron44/udacity_deep_learning/blob/master/tp1_udacity.ipynb\" target=\"_parent\"><img src=\"https://colab.research.google.com/assets/colab-badge.svg\" alt=\"Open In Colab\"/></a>"
      ]
    },
    {
      "cell_type": "code",
      "metadata": {
        "id": "bMB4mEBpmYsR",
        "colab_type": "code",
        "colab": {}
      },
      "source": [
        "##MOn premier tp sous Udacity"
      ],
      "execution_count": 0,
      "outputs": []
    },
    {
      "cell_type": "markdown",
      "metadata": {
        "id": "yIQ-z1Vnnmwz",
        "colab_type": "text"
      },
      "source": [
        "#**Mon premier tp sous Udacity**\n",
        "\n",
        "Je vais alors essayer d'utiliser la librairie numpy"
      ]
    },
    {
      "cell_type": "code",
      "metadata": {
        "id": "A7TiXuhCn5WO",
        "colab_type": "code",
        "colab": {}
      },
      "source": [
        "import numpy as np\n",
        "\n",
        "b=np.array(['a','b'])\n",
        "\n",
        "for i,e in enumerate (b):\n",
        "  print(\"index is {} and value is  {}\".format(i,e))\n",
        "\n",
        "a= np.array([1,2,8,4,5])\n",
        "\n",
        "print(\"The max number in this array is {} :\".format(np.max(a)))\n",
        "c= np.random.rand(1)\n",
        "\n",
        "print(\"c is {}\".format(c))"
      ],
      "execution_count": 0,
      "outputs": []
    },
    {
      "cell_type": "code",
      "metadata": {
        "id": "QpUtlJgsAuNU",
        "colab_type": "code",
        "colab": {
          "base_uri": "https://localhost:8080/",
          "height": 121
        },
        "outputId": "73ac6b76-2aaa-46c3-b1ea-9cad17558048"
      },
      "source": [
        ""
      ],
      "execution_count": 20,
      "outputs": [
        {
          "output_type": "stream",
          "text": [
            "total 20\n",
            "drwxr-xr-x 1 root root 4096 Dec 25 21:43 .\n",
            "drwxr-xr-x 1 root root 4096 Dec 25 20:46 ..\n",
            "drwxr-xr-x 1 root root 4096 Dec 18 16:52 .config\n",
            "drwxr-xr-x 7 root root 4096 Dec 25 21:43 .git\n",
            "drwxr-xr-x 1 root root 4096 Dec 18 16:52 sample_data\n"
          ],
          "name": "stdout"
        }
      ]
    },
    {
      "cell_type": "code",
      "metadata": {
        "id": "8ojzW0vYUM09",
        "colab_type": "code",
        "colab": {}
      },
      "source": [
        ""
      ],
      "execution_count": 0,
      "outputs": []
    },
    {
      "cell_type": "code",
      "metadata": {
        "id": "7rftO6qmuufR",
        "colab_type": "code",
        "colab": {}
      },
      "source": [
        "!pwd"
      ],
      "execution_count": 0,
      "outputs": []
    },
    {
      "cell_type": "code",
      "metadata": {
        "id": "WS0GpNVj0YFv",
        "colab_type": "code",
        "colab": {}
      },
      "source": [
        ""
      ],
      "execution_count": 0,
      "outputs": []
    },
    {
      "cell_type": "code",
      "metadata": {
        "id": "Bdxrq3DHUX22",
        "colab_type": "code",
        "outputId": "98bc1e2c-397b-4c1e-96ce-df8becb014f4",
        "colab": {
          "base_uri": "https://localhost:8080/",
          "height": 435
        }
      },
      "source": [
        "import tensorflow as tf\n",
        "import numpy as np\n",
        "import matplotlib.pyplot as plt\n",
        "\n",
        "\n",
        "celsus_deg    = np.array([-40, -10,  0,  8, 15, 22,  38],  dtype=float)\n",
        "far_deg = np.array([-40,  14, 32, 46, 59, 72, 100],  dtype=float)\n",
        "\n",
        "for index,deg_c in enumerate(celsus_deg):\n",
        "  print(\"{} deg in Farheinhet is : {} \".format(deg_c,far_deg[index]))\n",
        "\n",
        "\n",
        "l0 = tf.keras.layers.Dense(units=1,input_shape=[1])\n",
        "\n",
        "model = tf.keras.Sequential(l0)\n",
        "\n",
        "model.compile(loss=\"mean_squared_error\",optimizer=tf.keras.optimizers.Adam(0.1))\n",
        "\n",
        "history = model.fit(celsus_deg , far_deg, epochs=500,verbose=False)\n",
        "\n",
        "print(\"test train of the model is finished successfully !!!\")\n",
        "\n",
        "\n",
        "plt.xlabel(\"Weights\")\n",
        "plt.ylabel(\"Loss\")\n",
        "plt.plot(history.history['loss'])\n",
        "\n",
        "\n",
        "\n",
        "\n"
      ],
      "execution_count": 11,
      "outputs": [
        {
          "output_type": "stream",
          "text": [
            "-40.0 deg in Farheinhet is : -40.0 \n",
            "-10.0 deg in Farheinhet is : 14.0 \n",
            "0.0 deg in Farheinhet is : 32.0 \n",
            "8.0 deg in Farheinhet is : 46.0 \n",
            "15.0 deg in Farheinhet is : 59.0 \n",
            "22.0 deg in Farheinhet is : 72.0 \n",
            "38.0 deg in Farheinhet is : 100.0 \n",
            "test train of the model is finished successfully !!!\n"
          ],
          "name": "stdout"
        },
        {
          "output_type": "execute_result",
          "data": {
            "text/plain": [
              "[<matplotlib.lines.Line2D at 0x7fcd0a166940>]"
            ]
          },
          "metadata": {
            "tags": []
          },
          "execution_count": 11
        },
        {
          "output_type": "display_data",
          "data": {
            "image/png": "[encoded data removed]",
            "text/plain": [
              "<Figure size 432x288 with 1 Axes>"
            ]
          },
          "metadata": {
            "tags": []
          }
        }
      ]
    },
    {
      "cell_type": "code",
      "metadata": {
        "id": "3a-2baMf0afV",
        "colab_type": "code",
        "colab": {
          "base_uri": "https://localhost:8080/",
          "height": 34
        },
        "outputId": "45e20bf6-6d34-4ad2-f6a4-46da40b31f04"
      },
      "source": [
        "print(model.predict([98]))"
      ],
      "execution_count": 15,
      "outputs": [
        {
          "output_type": "stream",
          "text": [
            "[[207.65889]]\n"
          ],
          "name": "stdout"
        }
      ]
    }
  ]
}